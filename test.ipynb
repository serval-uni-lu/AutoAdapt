{
 "cells": [
  {
   "cell_type": "code",
   "execution_count": 12,
   "metadata": {},
   "outputs": [
    {
     "name": "stdout",
     "output_type": "stream",
     "text": [
      "torch.Size([256])\n"
     ]
    }
   ],
   "source": [
    "from transformers import AutoModel, AutoTokenizer\n",
    "\n",
    "checkpoint = \"Salesforce/codet5p-110m-embedding\"\n",
    "device = \"cuda\"  # for GPU usage or \"cpu\" for CPU usage\n",
    "\n",
    "tokenizer = AutoTokenizer.from_pretrained(checkpoint, trust_remote_code=True)\n",
    "model = AutoModel.from_pretrained(checkpoint, trust_remote_code=True).to(device)\n",
    "\n",
    "inputs = tokenizer.encode(\"def print_hello_world():\\tprint('Hello World!')\", return_tensors=\"pt\").to(device)\n",
    "embedding = model(inputs)[0]\n",
    "print(embedding.shape)"
   ]
  },
  {
   "cell_type": "code",
   "execution_count": 13,
   "metadata": {},
   "outputs": [
    {
     "data": {
      "text/html": [
       "<pre style=\"white-space:pre;overflow-x:auto;line-height:normal;font-family:Menlo,'DejaVu Sans Mono',consolas,'Courier New',monospace\"><span style=\"color: #c0c0c0; text-decoration-color: #c0c0c0\">root</span>                                                                                         \n",
       "├── <span style=\"color: #c0c0c0; text-decoration-color: #c0c0c0\">shared </span><span style=\"color: #008000; text-decoration-color: #008000\">(Embedding) </span><span style=\"color: #008080; text-decoration-color: #008080\">weight:[32103, 768]</span>                                                   \n",
       "├── <span style=\"color: #c0c0c0; text-decoration-color: #c0c0c0\">encoder </span><span style=\"color: #008000; text-decoration-color: #008000\">(T5Stack)</span>                                                                        \n",
       "│   ├── <span style=\"color: #c0c0c0; text-decoration-color: #c0c0c0\">embed_tokens </span><span style=\"color: #008000; text-decoration-color: #008000\">(Embedding) </span><span style=\"color: #008080; text-decoration-color: #008080\">weight:[32103, 768]</span>                                         \n",
       "│   ├── <span style=\"color: #c0c0c0; text-decoration-color: #c0c0c0\">block </span><span style=\"color: #008000; text-decoration-color: #008000\">(ModuleList)</span>                                                                   \n",
       "│   │   ├── <span style=\"color: #c0c0c0; text-decoration-color: #c0c0c0\">0 </span><span style=\"color: #008000; text-decoration-color: #008000\">(T5Block)</span>                                                                      \n",
       "│   │   │   └── <span style=\"color: #c0c0c0; text-decoration-color: #c0c0c0\">layer </span><span style=\"color: #008000; text-decoration-color: #008000\">(ModuleList)</span>                                                           \n",
       "│   │   │       ├── <span style=\"color: #c0c0c0; text-decoration-color: #c0c0c0\">0 </span><span style=\"color: #008000; text-decoration-color: #008000\">(T5LayerSelfAttention)</span>                                                 \n",
       "│   │   │       │   ├── <span style=\"color: #c0c0c0; text-decoration-color: #c0c0c0\">SelfAttention </span><span style=\"color: #008000; text-decoration-color: #008000\">(T5Attention)</span>                                          \n",
       "│   │   │       │   │   ├── <span style=\"color: #800000; text-decoration-color: #800000\">q,k,v,o</span><span style=\"color: #008000; text-decoration-color: #008000\">(Linear) </span><span style=\"color: #008080; text-decoration-color: #008080\">weight:[768, 768]</span>                                \n",
       "│   │   │       │   │   └── <span style=\"color: #c0c0c0; text-decoration-color: #c0c0c0\">relative_attention_bias </span><span style=\"color: #008000; text-decoration-color: #008000\">(Embedding) </span><span style=\"color: #008080; text-decoration-color: #008080\">weight:[32, 12]</span>              \n",
       "│   │   │       │   └── <span style=\"color: #c0c0c0; text-decoration-color: #c0c0c0\">layer_norm </span><span style=\"color: #008000; text-decoration-color: #008000\">(T5LayerNorm) </span><span style=\"color: #008080; text-decoration-color: #008080\">weight:[768]</span>                                \n",
       "│   │   │       └── <span style=\"color: #c0c0c0; text-decoration-color: #c0c0c0\">1 </span><span style=\"color: #008000; text-decoration-color: #008000\">(T5LayerFF)</span>                                                            \n",
       "│   │   │           ├── <span style=\"color: #c0c0c0; text-decoration-color: #c0c0c0\">DenseReluDense </span><span style=\"color: #008000; text-decoration-color: #008000\">(T5DenseActDense)</span>                                     \n",
       "│   │   │           │   ├── <span style=\"color: #c0c0c0; text-decoration-color: #c0c0c0\">wi </span><span style=\"color: #008000; text-decoration-color: #008000\">(Linear) </span><span style=\"color: #008080; text-decoration-color: #008080\">weight:[3072, 768]</span>                                   \n",
       "│   │   │           │   └── <span style=\"color: #c0c0c0; text-decoration-color: #c0c0c0\">wo </span><span style=\"color: #008000; text-decoration-color: #008000\">(Linear) </span><span style=\"color: #008080; text-decoration-color: #008080\">weight:[768, 3072]</span>                                   \n",
       "│   │   │           └── <span style=\"color: #c0c0c0; text-decoration-color: #c0c0c0\">layer_norm </span><span style=\"color: #008000; text-decoration-color: #008000\">(T5LayerNorm) </span><span style=\"color: #008080; text-decoration-color: #008080\">weight:[768]</span>                                \n",
       "│   │   └── <span style=\"color: #800000; text-decoration-color: #800000\">1-11</span><span style=\"color: #008000; text-decoration-color: #008000\">(T5Block)</span>                                                                    \n",
       "│   │       └── <span style=\"color: #c0c0c0; text-decoration-color: #c0c0c0\">layer </span><span style=\"color: #008000; text-decoration-color: #008000\">(ModuleList)</span>                                                           \n",
       "│   │           ├── <span style=\"color: #c0c0c0; text-decoration-color: #c0c0c0\">0 </span><span style=\"color: #008000; text-decoration-color: #008000\">(T5LayerSelfAttention)</span>                                                 \n",
       "│   │           │   ├── <span style=\"color: #c0c0c0; text-decoration-color: #c0c0c0\">SelfAttention </span><span style=\"color: #008000; text-decoration-color: #008000\">(T5Attention)</span>                                          \n",
       "│   │           │   │   └── <span style=\"color: #800000; text-decoration-color: #800000\">q,k,v,o</span><span style=\"color: #008000; text-decoration-color: #008000\">(Linear) </span><span style=\"color: #008080; text-decoration-color: #008080\">weight:[768, 768]</span>                                \n",
       "│   │           │   └── <span style=\"color: #c0c0c0; text-decoration-color: #c0c0c0\">layer_norm </span><span style=\"color: #008000; text-decoration-color: #008000\">(T5LayerNorm) </span><span style=\"color: #008080; text-decoration-color: #008080\">weight:[768]</span>                                \n",
       "│   │           └── <span style=\"color: #c0c0c0; text-decoration-color: #c0c0c0\">1 </span><span style=\"color: #008000; text-decoration-color: #008000\">(T5LayerFF)</span>                                                            \n",
       "│   │               ├── <span style=\"color: #c0c0c0; text-decoration-color: #c0c0c0\">DenseReluDense </span><span style=\"color: #008000; text-decoration-color: #008000\">(T5DenseActDense)</span>                                     \n",
       "│   │               │   ├── <span style=\"color: #c0c0c0; text-decoration-color: #c0c0c0\">wi </span><span style=\"color: #008000; text-decoration-color: #008000\">(Linear) </span><span style=\"color: #008080; text-decoration-color: #008080\">weight:[3072, 768]</span>                                   \n",
       "│   │               │   └── <span style=\"color: #c0c0c0; text-decoration-color: #c0c0c0\">wo </span><span style=\"color: #008000; text-decoration-color: #008000\">(Linear) </span><span style=\"color: #008080; text-decoration-color: #008080\">weight:[768, 3072]</span>                                   \n",
       "│   │               └── <span style=\"color: #c0c0c0; text-decoration-color: #c0c0c0\">layer_norm </span><span style=\"color: #008000; text-decoration-color: #008000\">(T5LayerNorm) </span><span style=\"color: #008080; text-decoration-color: #008080\">weight:[768]</span>                                \n",
       "│   └── <span style=\"color: #c0c0c0; text-decoration-color: #c0c0c0\">final_layer_norm </span><span style=\"color: #008000; text-decoration-color: #008000\">(T5LayerNorm) </span><span style=\"color: #008080; text-decoration-color: #008080\">weight:[768]</span>                                          \n",
       "└── <span style=\"color: #c0c0c0; text-decoration-color: #c0c0c0\">proj </span><span style=\"color: #008000; text-decoration-color: #008000\">(Linear) </span><span style=\"color: #008080; text-decoration-color: #008080\">weight:[256, 768] bias:[256]</span>                                               \n",
       "</pre>\n"
      ],
      "text/plain": [
       "\u001b[37mroot\u001b[0m                                                                                         \n",
       "├── \u001b[37mshared \u001b[0m\u001b[32m(Embedding) \u001b[0m\u001b[36mweight:[32103, 768]\u001b[0m                                                   \n",
       "├── \u001b[37mencoder \u001b[0m\u001b[32m(T5Stack)\u001b[0m                                                                        \n",
       "│   ├── \u001b[37membed_tokens \u001b[0m\u001b[32m(Embedding) \u001b[0m\u001b[36mweight:[32103, 768]\u001b[0m                                         \n",
       "│   ├── \u001b[37mblock \u001b[0m\u001b[32m(ModuleList)\u001b[0m                                                                   \n",
       "│   │   ├── \u001b[37m0 \u001b[0m\u001b[32m(T5Block)\u001b[0m                                                                      \n",
       "│   │   │   └── \u001b[37mlayer \u001b[0m\u001b[32m(ModuleList)\u001b[0m                                                           \n",
       "│   │   │       ├── \u001b[37m0 \u001b[0m\u001b[32m(T5LayerSelfAttention)\u001b[0m                                                 \n",
       "│   │   │       │   ├── \u001b[37mSelfAttention \u001b[0m\u001b[32m(T5Attention)\u001b[0m                                          \n",
       "│   │   │       │   │   ├── \u001b[31mq,k,v,o\u001b[0m\u001b[32m(Linear) \u001b[0m\u001b[36mweight:[768, 768]\u001b[0m                                \n",
       "│   │   │       │   │   └── \u001b[37mrelative_attention_bias \u001b[0m\u001b[32m(Embedding) \u001b[0m\u001b[36mweight:[32, 12]\u001b[0m              \n",
       "│   │   │       │   └── \u001b[37mlayer_norm \u001b[0m\u001b[32m(T5LayerNorm) \u001b[0m\u001b[36mweight:[768]\u001b[0m                                \n",
       "│   │   │       └── \u001b[37m1 \u001b[0m\u001b[32m(T5LayerFF)\u001b[0m                                                            \n",
       "│   │   │           ├── \u001b[37mDenseReluDense \u001b[0m\u001b[32m(T5DenseActDense)\u001b[0m                                     \n",
       "│   │   │           │   ├── \u001b[37mwi \u001b[0m\u001b[32m(Linear) \u001b[0m\u001b[36mweight:[3072, 768]\u001b[0m                                   \n",
       "│   │   │           │   └── \u001b[37mwo \u001b[0m\u001b[32m(Linear) \u001b[0m\u001b[36mweight:[768, 3072]\u001b[0m                                   \n",
       "│   │   │           └── \u001b[37mlayer_norm \u001b[0m\u001b[32m(T5LayerNorm) \u001b[0m\u001b[36mweight:[768]\u001b[0m                                \n",
       "│   │   └── \u001b[31m1-11\u001b[0m\u001b[32m(T5Block)\u001b[0m                                                                    \n",
       "│   │       └── \u001b[37mlayer \u001b[0m\u001b[32m(ModuleList)\u001b[0m                                                           \n",
       "│   │           ├── \u001b[37m0 \u001b[0m\u001b[32m(T5LayerSelfAttention)\u001b[0m                                                 \n",
       "│   │           │   ├── \u001b[37mSelfAttention \u001b[0m\u001b[32m(T5Attention)\u001b[0m                                          \n",
       "│   │           │   │   └── \u001b[31mq,k,v,o\u001b[0m\u001b[32m(Linear) \u001b[0m\u001b[36mweight:[768, 768]\u001b[0m                                \n",
       "│   │           │   └── \u001b[37mlayer_norm \u001b[0m\u001b[32m(T5LayerNorm) \u001b[0m\u001b[36mweight:[768]\u001b[0m                                \n",
       "│   │           └── \u001b[37m1 \u001b[0m\u001b[32m(T5LayerFF)\u001b[0m                                                            \n",
       "│   │               ├── \u001b[37mDenseReluDense \u001b[0m\u001b[32m(T5DenseActDense)\u001b[0m                                     \n",
       "│   │               │   ├── \u001b[37mwi \u001b[0m\u001b[32m(Linear) \u001b[0m\u001b[36mweight:[3072, 768]\u001b[0m                                   \n",
       "│   │               │   └── \u001b[37mwo \u001b[0m\u001b[32m(Linear) \u001b[0m\u001b[36mweight:[768, 3072]\u001b[0m                                   \n",
       "│   │               └── \u001b[37mlayer_norm \u001b[0m\u001b[32m(T5LayerNorm) \u001b[0m\u001b[36mweight:[768]\u001b[0m                                \n",
       "│   └── \u001b[37mfinal_layer_norm \u001b[0m\u001b[32m(T5LayerNorm) \u001b[0m\u001b[36mweight:[768]\u001b[0m                                          \n",
       "└── \u001b[37mproj \u001b[0m\u001b[32m(Linear) \u001b[0m\u001b[36mweight:[256, 768] \u001b[0m\u001b[36mbias:[256]\u001b[0m                                               \n"
      ]
     },
     "metadata": {},
     "output_type": "display_data"
    },
    {
     "data": {
      "text/html": [
       "<pre style=\"white-space:pre;overflow-x:auto;line-height:normal;font-family:Menlo,'DejaVu Sans Mono',consolas,'Courier New',monospace\"><span style=\"color: #c0c0c0; text-decoration-color: #c0c0c0\">root</span>                                                                                         \n",
       "├── <span style=\"color: #c0c0c0; text-decoration-color: #c0c0c0\">shared </span><span style=\"color: #008000; text-decoration-color: #008000\">(Embedding) </span><span style=\"color: #008080; text-decoration-color: #008080\">weight:[32103, 768]</span>                                                   \n",
       "├── <span style=\"color: #c0c0c0; text-decoration-color: #c0c0c0\">encoder </span><span style=\"color: #008000; text-decoration-color: #008000\">(T5Stack)</span>                                                                        \n",
       "│   ├── <span style=\"color: #c0c0c0; text-decoration-color: #c0c0c0\">embed_tokens </span><span style=\"color: #008000; text-decoration-color: #008000\">(Embedding) </span><span style=\"color: #008080; text-decoration-color: #008080\">weight:[32103, 768]</span>                                         \n",
       "│   ├── <span style=\"color: #c0c0c0; text-decoration-color: #c0c0c0\">block </span><span style=\"color: #008000; text-decoration-color: #008000\">(ModuleList)</span>                                                                   \n",
       "│   │   ├── <span style=\"color: #c0c0c0; text-decoration-color: #c0c0c0\">0 </span><span style=\"color: #008000; text-decoration-color: #008000\">(T5Block)</span>                                                                      \n",
       "│   │   │   └── <span style=\"color: #c0c0c0; text-decoration-color: #c0c0c0\">layer </span><span style=\"color: #008000; text-decoration-color: #008000\">(ModuleList)</span>                                                           \n",
       "│   │   │       ├── <span style=\"color: #c0c0c0; text-decoration-color: #c0c0c0\">0 </span><span style=\"color: #008000; text-decoration-color: #008000\">(T5LayerSelfAttention)</span>                                                 \n",
       "│   │   │       │   ├── <span style=\"color: #c0c0c0; text-decoration-color: #c0c0c0\">SelfAttention </span><span style=\"color: #008000; text-decoration-color: #008000\">(T5Attention)</span>                                          \n",
       "│   │   │       │   │   ├── <span style=\"color: #800000; text-decoration-color: #800000\">q,k,v,o</span><span style=\"color: #008000; text-decoration-color: #008000\">(Linear) </span><span style=\"color: #008080; text-decoration-color: #008080\">weight:[768, 768]</span>                                \n",
       "│   │   │       │   │   └── <span style=\"color: #c0c0c0; text-decoration-color: #c0c0c0\">relative_attention_bias </span><span style=\"color: #008000; text-decoration-color: #008000\">(Embedding) </span><span style=\"color: #008080; text-decoration-color: #008080\">weight:[32, 12]</span>              \n",
       "│   │   │       │   └── <span style=\"color: #c0c0c0; text-decoration-color: #c0c0c0\">layer_norm </span><span style=\"color: #008000; text-decoration-color: #008000\">(T5LayerNorm) </span><span style=\"color: #008080; text-decoration-color: #008080\">weight:[768]</span>                                \n",
       "│   │   │       └── <span style=\"color: #c0c0c0; text-decoration-color: #c0c0c0\">1 </span><span style=\"color: #008000; text-decoration-color: #008000\">(T5LayerFF)</span>                                                            \n",
       "│   │   │           ├── <span style=\"color: #c0c0c0; text-decoration-color: #c0c0c0\">DenseReluDense </span><span style=\"color: #008000; text-decoration-color: #008000\">(T5DenseActDense)</span>                                     \n",
       "│   │   │           │   ├── <span style=\"color: #c0c0c0; text-decoration-color: #c0c0c0\">wi </span><span style=\"color: #008000; text-decoration-color: #008000\">(Linear) </span><span style=\"color: #008080; text-decoration-color: #008080\">weight:[3072, 768]</span>                                   \n",
       "│   │   │           │   └── <span style=\"color: #c0c0c0; text-decoration-color: #c0c0c0\">wo </span><span style=\"color: #008000; text-decoration-color: #008000\">(Linear) </span><span style=\"color: #008080; text-decoration-color: #008080\">weight:[768, 3072]</span>                                   \n",
       "│   │   │           └── <span style=\"color: #c0c0c0; text-decoration-color: #c0c0c0\">layer_norm </span><span style=\"color: #008000; text-decoration-color: #008000\">(T5LayerNorm) </span><span style=\"color: #008080; text-decoration-color: #008080\">weight:[768]</span>                                \n",
       "│   │   └── <span style=\"color: #800000; text-decoration-color: #800000\">1-11</span><span style=\"color: #008000; text-decoration-color: #008000\">(T5Block)</span>                                                                    \n",
       "│   │       └── <span style=\"color: #c0c0c0; text-decoration-color: #c0c0c0\">layer </span><span style=\"color: #008000; text-decoration-color: #008000\">(ModuleList)</span>                                                           \n",
       "│   │           ├── <span style=\"color: #c0c0c0; text-decoration-color: #c0c0c0\">0 </span><span style=\"color: #008000; text-decoration-color: #008000\">(T5LayerSelfAttention)</span>                                                 \n",
       "│   │           │   ├── <span style=\"color: #c0c0c0; text-decoration-color: #c0c0c0\">SelfAttention </span><span style=\"color: #008000; text-decoration-color: #008000\">(T5Attention)</span>                                          \n",
       "│   │           │   │   └── <span style=\"color: #800000; text-decoration-color: #800000\">q,k,v,o</span><span style=\"color: #008000; text-decoration-color: #008000\">(Linear) </span><span style=\"color: #008080; text-decoration-color: #008080\">weight:[768, 768]</span>                                \n",
       "│   │           │   └── <span style=\"color: #c0c0c0; text-decoration-color: #c0c0c0\">layer_norm </span><span style=\"color: #008000; text-decoration-color: #008000\">(T5LayerNorm) </span><span style=\"color: #008080; text-decoration-color: #008080\">weight:[768]</span>                                \n",
       "│   │           └── <span style=\"color: #c0c0c0; text-decoration-color: #c0c0c0\">1 </span><span style=\"color: #008000; text-decoration-color: #008000\">(T5LayerFF)</span>                                                            \n",
       "│   │               ├── <span style=\"color: #c0c0c0; text-decoration-color: #c0c0c0\">DenseReluDense </span><span style=\"color: #008000; text-decoration-color: #008000\">(T5DenseActDense)</span>                                     \n",
       "│   │               │   ├── <span style=\"color: #c0c0c0; text-decoration-color: #c0c0c0\">wi </span><span style=\"color: #008000; text-decoration-color: #008000\">(Linear) </span><span style=\"color: #008080; text-decoration-color: #008080\">weight:[3072, 768]</span>                                   \n",
       "│   │               │   └── <span style=\"color: #c0c0c0; text-decoration-color: #c0c0c0\">wo </span><span style=\"color: #008000; text-decoration-color: #008000\">(Linear) </span><span style=\"color: #008080; text-decoration-color: #008080\">weight:[768, 3072]</span>                                   \n",
       "│   │               └── <span style=\"color: #c0c0c0; text-decoration-color: #c0c0c0\">layer_norm </span><span style=\"color: #008000; text-decoration-color: #008000\">(T5LayerNorm) </span><span style=\"color: #008080; text-decoration-color: #008080\">weight:[768]</span>                                \n",
       "│   └── <span style=\"color: #c0c0c0; text-decoration-color: #c0c0c0\">final_layer_norm </span><span style=\"color: #008000; text-decoration-color: #008000\">(T5LayerNorm) </span><span style=\"color: #008080; text-decoration-color: #008080\">weight:[768]</span>                                          \n",
       "└── <span style=\"color: #c0c0c0; text-decoration-color: #c0c0c0\">proj </span><span style=\"color: #008000; text-decoration-color: #008000\">(Linear) </span><span style=\"color: #008080; text-decoration-color: #008080\">weight:[256, 768] bias:[256]</span>                                               \n",
       "</pre>\n"
      ],
      "text/plain": [
       "\u001b[37mroot\u001b[0m                                                                                         \n",
       "├── \u001b[37mshared \u001b[0m\u001b[32m(Embedding) \u001b[0m\u001b[36mweight:[32103, 768]\u001b[0m                                                   \n",
       "├── \u001b[37mencoder \u001b[0m\u001b[32m(T5Stack)\u001b[0m                                                                        \n",
       "│   ├── \u001b[37membed_tokens \u001b[0m\u001b[32m(Embedding) \u001b[0m\u001b[36mweight:[32103, 768]\u001b[0m                                         \n",
       "│   ├── \u001b[37mblock \u001b[0m\u001b[32m(ModuleList)\u001b[0m                                                                   \n",
       "│   │   ├── \u001b[37m0 \u001b[0m\u001b[32m(T5Block)\u001b[0m                                                                      \n",
       "│   │   │   └── \u001b[37mlayer \u001b[0m\u001b[32m(ModuleList)\u001b[0m                                                           \n",
       "│   │   │       ├── \u001b[37m0 \u001b[0m\u001b[32m(T5LayerSelfAttention)\u001b[0m                                                 \n",
       "│   │   │       │   ├── \u001b[37mSelfAttention \u001b[0m\u001b[32m(T5Attention)\u001b[0m                                          \n",
       "│   │   │       │   │   ├── \u001b[31mq,k,v,o\u001b[0m\u001b[32m(Linear) \u001b[0m\u001b[36mweight:[768, 768]\u001b[0m                                \n",
       "│   │   │       │   │   └── \u001b[37mrelative_attention_bias \u001b[0m\u001b[32m(Embedding) \u001b[0m\u001b[36mweight:[32, 12]\u001b[0m              \n",
       "│   │   │       │   └── \u001b[37mlayer_norm \u001b[0m\u001b[32m(T5LayerNorm) \u001b[0m\u001b[36mweight:[768]\u001b[0m                                \n",
       "│   │   │       └── \u001b[37m1 \u001b[0m\u001b[32m(T5LayerFF)\u001b[0m                                                            \n",
       "│   │   │           ├── \u001b[37mDenseReluDense \u001b[0m\u001b[32m(T5DenseActDense)\u001b[0m                                     \n",
       "│   │   │           │   ├── \u001b[37mwi \u001b[0m\u001b[32m(Linear) \u001b[0m\u001b[36mweight:[3072, 768]\u001b[0m                                   \n",
       "│   │   │           │   └── \u001b[37mwo \u001b[0m\u001b[32m(Linear) \u001b[0m\u001b[36mweight:[768, 3072]\u001b[0m                                   \n",
       "│   │   │           └── \u001b[37mlayer_norm \u001b[0m\u001b[32m(T5LayerNorm) \u001b[0m\u001b[36mweight:[768]\u001b[0m                                \n",
       "│   │   └── \u001b[31m1-11\u001b[0m\u001b[32m(T5Block)\u001b[0m                                                                    \n",
       "│   │       └── \u001b[37mlayer \u001b[0m\u001b[32m(ModuleList)\u001b[0m                                                           \n",
       "│   │           ├── \u001b[37m0 \u001b[0m\u001b[32m(T5LayerSelfAttention)\u001b[0m                                                 \n",
       "│   │           │   ├── \u001b[37mSelfAttention \u001b[0m\u001b[32m(T5Attention)\u001b[0m                                          \n",
       "│   │           │   │   └── \u001b[31mq,k,v,o\u001b[0m\u001b[32m(Linear) \u001b[0m\u001b[36mweight:[768, 768]\u001b[0m                                \n",
       "│   │           │   └── \u001b[37mlayer_norm \u001b[0m\u001b[32m(T5LayerNorm) \u001b[0m\u001b[36mweight:[768]\u001b[0m                                \n",
       "│   │           └── \u001b[37m1 \u001b[0m\u001b[32m(T5LayerFF)\u001b[0m                                                            \n",
       "│   │               ├── \u001b[37mDenseReluDense \u001b[0m\u001b[32m(T5DenseActDense)\u001b[0m                                     \n",
       "│   │               │   ├── \u001b[37mwi \u001b[0m\u001b[32m(Linear) \u001b[0m\u001b[36mweight:[3072, 768]\u001b[0m                                   \n",
       "│   │               │   └── \u001b[37mwo \u001b[0m\u001b[32m(Linear) \u001b[0m\u001b[36mweight:[768, 3072]\u001b[0m                                   \n",
       "│   │               └── \u001b[37mlayer_norm \u001b[0m\u001b[32m(T5LayerNorm) \u001b[0m\u001b[36mweight:[768]\u001b[0m                                \n",
       "│   └── \u001b[37mfinal_layer_norm \u001b[0m\u001b[32m(T5LayerNorm) \u001b[0m\u001b[36mweight:[768]\u001b[0m                                          \n",
       "└── \u001b[37mproj \u001b[0m\u001b[32m(Linear) \u001b[0m\u001b[36mweight:[256, 768] \u001b[0m\u001b[36mbias:[256]\u001b[0m                                               \n"
      ]
     },
     "execution_count": 13,
     "metadata": {},
     "output_type": "execute_result"
    }
   ],
   "source": [
    "from bigmodelvis import Visualization\n",
    "\n",
    "model_vis = Visualization(model)\n",
    "model_vis.structure_graph()"
   ]
  },
  {
   "cell_type": "code",
   "execution_count": 14,
   "metadata": {},
   "outputs": [
    {
     "name": "stdout",
     "output_type": "stream",
     "text": [
      "\n",
      "If on your machine, open the link below for interactive modification.\n",
      " If on remote host, you could use port mapping, or run in vscode terminal, which automatically do port mapping for you.\n",
      "http://0.0.0.0:8888/\n",
      "modified_modules:\n",
      "[]\n"
     ]
    }
   ],
   "source": [
    "from OpenDelta.opendelta import AdapterModel\n",
    "from transformers import AutoModel, AutoTokenizer\n",
    "\n",
    "checkpoint = \"Salesforce/codet5p-110m-embedding\"\n",
    "device = \"cuda\"  # for GPU usage or \"cpu\" for CPU usage\n",
    "\n",
    "model = AutoModel.from_pretrained(checkpoint, trust_remote_code=True).to(device)\n",
    "\n",
    "delta = AdapterModel(model.encoder , bottleneck_dim=[32] ,interactive_modify=True)\n",
    "\n",
    "\n"
   ]
  }
 ],
 "metadata": {
  "kernelspec": {
   "display_name": "Python 3",
   "language": "python",
   "name": "python3"
  },
  "language_info": {
   "codemirror_mode": {
    "name": "ipython",
    "version": 3
   },
   "file_extension": ".py",
   "mimetype": "text/x-python",
   "name": "python",
   "nbconvert_exporter": "python",
   "pygments_lexer": "ipython3",
   "version": "3.10.13"
  }
 },
 "nbformat": 4,
 "nbformat_minor": 2
}
